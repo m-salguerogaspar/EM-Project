{
 "cells": [
  {
   "cell_type": "code",
   "execution_count": 1,
   "id": "f0bf3337",
   "metadata": {},
   "outputs": [],
   "source": [
    "import pandas as pd\n",
    "import sqlite3\n",
    "import matplotlib.pyplot as plt\n",
    "import numpy as np\n",
    "import seaborn as sns\n",
    "import numpy\n",
    "\n",
    "from datetime import datetime\n",
    "from scipy import stats"
   ]
  },
  {
   "cell_type": "code",
   "execution_count": 2,
   "id": "8afc4396",
   "metadata": {},
   "outputs": [],
   "source": [
    "con = sqlite3.connect(r\"C:\\Users\\Mauro\\OneDrive - АНО ВО Университет Иннополис\\Документы\\Innopolis\\Empirical Methods\\DataPrimaryProject\\user1.sqlite\")"
   ]
  },
  {
   "cell_type": "code",
   "execution_count": 3,
   "id": "026623bb",
   "metadata": {},
   "outputs": [],
   "source": [
    "signals_data = pd.read_sql_query(\"\"\"SELECT * FROM Signals;\"\"\", con)\n",
    "images_data = pd.read_sql_query(\"\"\"SELECT * FROM Images;\"\"\", con)"
   ]
  },
  {
   "cell_type": "code",
   "execution_count": 4,
   "id": "c6d411e0",
   "metadata": {},
   "outputs": [
    {
     "name": "stderr",
     "output_type": "stream",
     "text": [
      "<ipython-input-4-9e2eea3a92a1>:3: SettingWithCopyWarning: \n",
      "A value is trying to be set on a copy of a slice from a DataFrame.\n",
      "Try using .loc[row_indexer,col_indexer] = value instead\n",
      "\n",
      "See the caveats in the documentation: https://pandas.pydata.org/pandas-docs/stable/user_guide/indexing.html#returning-a-view-versus-a-copy\n",
      "  filter_data[\"dateTime\"] = pd.to_datetime(filter_data[\"dateTime\"])\n"
     ]
    }
   ],
   "source": [
    "filter_data = images_data.loc[(images_data[\"state\"] == \"Present\") | (images_data[\"state\"] == \"Absent\")]\n",
    "\n",
    "filter_data[\"dateTime\"] = pd.to_datetime(filter_data[\"dateTime\"])\n",
    "\n",
    "sig_ti = signals_data.dateTime"
   ]
  },
  {
   "cell_type": "code",
   "execution_count": 5,
   "id": "1b45e0dd",
   "metadata": {},
   "outputs": [],
   "source": [
    "newfd = filter_data.filter(['id','dateTime','state'], axis=1)\n",
    "\n",
    "newfd = newfd.reset_index(drop=True)"
   ]
  },
  {
   "cell_type": "code",
   "execution_count": 6,
   "id": "d795d229",
   "metadata": {},
   "outputs": [
    {
     "data": {
      "text/html": [
       "<div>\n",
       "<style scoped>\n",
       "    .dataframe tbody tr th:only-of-type {\n",
       "        vertical-align: middle;\n",
       "    }\n",
       "\n",
       "    .dataframe tbody tr th {\n",
       "        vertical-align: top;\n",
       "    }\n",
       "\n",
       "    .dataframe thead th {\n",
       "        text-align: right;\n",
       "    }\n",
       "</style>\n",
       "<table border=\"1\" class=\"dataframe\">\n",
       "  <thead>\n",
       "    <tr style=\"text-align: right;\">\n",
       "      <th></th>\n",
       "      <th>id</th>\n",
       "      <th>dateTime</th>\n",
       "      <th>state</th>\n",
       "    </tr>\n",
       "  </thead>\n",
       "  <tbody>\n",
       "    <tr>\n",
       "      <th>0</th>\n",
       "      <td>1</td>\n",
       "      <td>2021-03-30 13:13:55.899572</td>\n",
       "      <td>Absent</td>\n",
       "    </tr>\n",
       "    <tr>\n",
       "      <th>1</th>\n",
       "      <td>2</td>\n",
       "      <td>2021-03-30 13:13:57.749004</td>\n",
       "      <td>Present</td>\n",
       "    </tr>\n",
       "    <tr>\n",
       "      <th>2</th>\n",
       "      <td>4</td>\n",
       "      <td>2021-03-30 13:25:45.179473</td>\n",
       "      <td>Present</td>\n",
       "    </tr>\n",
       "    <tr>\n",
       "      <th>3</th>\n",
       "      <td>5</td>\n",
       "      <td>2021-03-30 13:25:47.124525</td>\n",
       "      <td>Absent</td>\n",
       "    </tr>\n",
       "    <tr>\n",
       "      <th>4</th>\n",
       "      <td>6</td>\n",
       "      <td>2021-03-30 13:25:47.511522</td>\n",
       "      <td>Present</td>\n",
       "    </tr>\n",
       "    <tr>\n",
       "      <th>...</th>\n",
       "      <td>...</td>\n",
       "      <td>...</td>\n",
       "      <td>...</td>\n",
       "    </tr>\n",
       "    <tr>\n",
       "      <th>1309</th>\n",
       "      <td>2514</td>\n",
       "      <td>2021-04-27 17:52:31.835608</td>\n",
       "      <td>Present</td>\n",
       "    </tr>\n",
       "    <tr>\n",
       "      <th>1310</th>\n",
       "      <td>2516</td>\n",
       "      <td>2021-04-27 17:54:50.824965</td>\n",
       "      <td>Present</td>\n",
       "    </tr>\n",
       "    <tr>\n",
       "      <th>1311</th>\n",
       "      <td>2518</td>\n",
       "      <td>2021-04-27 17:55:03.524461</td>\n",
       "      <td>Present</td>\n",
       "    </tr>\n",
       "    <tr>\n",
       "      <th>1312</th>\n",
       "      <td>2520</td>\n",
       "      <td>2021-04-27 17:55:46.828018</td>\n",
       "      <td>Present</td>\n",
       "    </tr>\n",
       "    <tr>\n",
       "      <th>1313</th>\n",
       "      <td>2522</td>\n",
       "      <td>2021-04-27 17:58:37.827185</td>\n",
       "      <td>Present</td>\n",
       "    </tr>\n",
       "  </tbody>\n",
       "</table>\n",
       "<p>1314 rows × 3 columns</p>\n",
       "</div>"
      ],
      "text/plain": [
       "        id                   dateTime    state\n",
       "0        1 2021-03-30 13:13:55.899572   Absent\n",
       "1        2 2021-03-30 13:13:57.749004  Present\n",
       "2        4 2021-03-30 13:25:45.179473  Present\n",
       "3        5 2021-03-30 13:25:47.124525   Absent\n",
       "4        6 2021-03-30 13:25:47.511522  Present\n",
       "...    ...                        ...      ...\n",
       "1309  2514 2021-04-27 17:52:31.835608  Present\n",
       "1310  2516 2021-04-27 17:54:50.824965  Present\n",
       "1311  2518 2021-04-27 17:55:03.524461  Present\n",
       "1312  2520 2021-04-27 17:55:46.828018  Present\n",
       "1313  2522 2021-04-27 17:58:37.827185  Present\n",
       "\n",
       "[1314 rows x 3 columns]"
      ]
     },
     "execution_count": 6,
     "metadata": {},
     "output_type": "execute_result"
    }
   ],
   "source": [
    "newfd"
   ]
  },
  {
   "cell_type": "code",
   "execution_count": 7,
   "id": "2c09de5d",
   "metadata": {},
   "outputs": [],
   "source": [
    "pstates = list()\n",
    "astates = list()\n",
    "\n",
    "states = newfd.groupby([(newfd.state != newfd.state.shift()).cumsum()]) \n",
    "\n",
    "for i, g in states:\n",
    "    if (len(g.dateTime.tolist()) > 1)  &  (g.state.all() == 'Present'):\n",
    "        pstates.append((newfd.dateTime.iloc[g.index[0]],newfd.dateTime.iloc[g.index[0]+len(g)-1]))\n",
    "    elif (g.state.all() == 'Absent') & (i > 1) & (i < len(states)-1):\n",
    "        astates.append((newfd.dateTime.iloc[g.index[0]-1],newfd.dateTime.iloc[g.index[0]+len(g)]))"
   ]
  },
  {
   "cell_type": "code",
   "execution_count": 8,
   "id": "63c3d4f9",
   "metadata": {},
   "outputs": [],
   "source": [
    "pre_sig = list()                                                             # Duration of the signals of the Present intervals\n",
    "\n",
    "for m in range (0,len(pstates)):\n",
    "    pre_intervals = list()\n",
    "    for n in sig_ti:\n",
    "        if (str(pstates[m][0]) <= n) &  (n <= str(pstates[m][1])):\n",
    "           pre_intervals.append(n) \n",
    "    if len(pre_intervals) > 1:\n",
    "       inter = pd.Series(pre_intervals, dtype = 'object')\n",
    "       inter = pd.to_datetime(inter)\n",
    "    pre_sig.append(inter.iloc[-1] - inter.iloc[0])"
   ]
  },
  {
   "cell_type": "code",
   "execution_count": 9,
   "id": "c31d12b2",
   "metadata": {},
   "outputs": [],
   "source": [
    "abs_sig = list()                                                             # Duration of the signals of the Present intervals\n",
    "\n",
    "for m in range (0,len(astates)):\n",
    "    abs_intervals = list()\n",
    "    for n in sig_ti:\n",
    "        if (str(astates[m][0]) <= n) &  (n <= str(astates[m][1])):\n",
    "           abs_intervals.append(n) \n",
    "    if len(abs_intervals) > 1:\n",
    "       inter = pd.Series(abs_intervals, dtype = 'object')\n",
    "       inter = pd.to_datetime(inter)\n",
    "    abs_sig.append(inter.iloc[-1] - inter.iloc[0])"
   ]
  },
  {
   "cell_type": "code",
   "execution_count": 10,
   "id": "b74aea28",
   "metadata": {},
   "outputs": [],
   "source": [
    "a = pre_sig\n",
    "b = abs_sig"
   ]
  },
  {
   "cell_type": "code",
   "execution_count": 11,
   "id": "a477adb6",
   "metadata": {},
   "outputs": [],
   "source": [
    "a = [p.total_seconds()/60 for p in pre_sig ]                          # Time in seconds\n",
    "a = pd.DataFrame(a)\n",
    "\n",
    "b = [a.total_seconds()/60 for a in abs_sig ]                          # Time in seconds\n",
    "b =pd.DataFrame(b)\n",
    "\n",
    "alpha = 0.05\n",
    "\n",
    "Q_1_a = a.quantile(0.25)\n",
    "Q_3_a = a.quantile(0.75)\n",
    "Iqr_a  = Q_3_a - Q_1_a\n",
    "\n",
    "Q_1_b = b.quantile(0.25)\n",
    "Q_3_b = b.quantile(0.75)\n",
    "Iqr_b = Q_3_b - Q_1_b"
   ]
  },
  {
   "cell_type": "code",
   "execution_count": 12,
   "id": "264478bf",
   "metadata": {},
   "outputs": [
    {
     "name": "stdout",
     "output_type": "stream",
     "text": [
      "1.0\n",
      "1.0\n"
     ]
    }
   ],
   "source": [
    "filter_a = a[((Q_1_a - 1.5 * Iqr_a) <= a) | (a <=  (Q_3_a + 1.5 * Iqr_a))]\n",
    "print(len(filter_a)/len(a))\n",
    "filter_a = numpy.squeeze(filter_a.to_numpy())\n",
    "\n",
    "filter_b = b[((Q_1_b - 1.5 * Iqr_b) <= b) | (b <=  (Q_3_b + 1.5 * Iqr_b))]\n",
    "print(len(filter_b)/len(b))\n",
    "filter_b = numpy.squeeze(filter_b.to_numpy())"
   ]
  },
  {
   "cell_type": "code",
   "execution_count": 13,
   "id": "1cf109c5",
   "metadata": {},
   "outputs": [
    {
     "name": "stdout",
     "output_type": "stream",
     "text": [
      "-0.002249959461091528\n",
      "p = 2.4625e-20\n",
      "The null hypothesis can be rejected\n",
      "p = 0.0640534\n",
      "The null hypothesis cannot be rejected\n"
     ]
    }
   ],
   "source": [
    "fitted_a, fitted_la = stats.boxcox(filter_a)\n",
    "\n",
    "print(fitted_la)\n",
    "\n",
    "k_p, p_p = stats.normaltest(filter_a)\n",
    "\n",
    "print(\"p = {:g}\".format(p_p))\n",
    "if p_p < alpha:                                        # null hypothesis: Present Interval comes from a normal distribution\n",
    "    print(\"The null hypothesis can be rejected\")\n",
    "else:\n",
    "    print(\"The null hypothesis cannot be rejected\")\n",
    "    \n",
    "\n",
    "k_p, p_p = stats.normaltest(fitted_a)\n",
    "\n",
    "print(\"p = {:g}\".format(p_p))\n",
    "if p_p < alpha:                                        # null hypothesis: Present Interval comes from a normal distribution\n",
    "    print(\"The null hypothesis can be rejected\")\n",
    "else:\n",
    "    print(\"The null hypothesis cannot be rejected\")"
   ]
  },
  {
   "cell_type": "code",
   "execution_count": 14,
   "id": "859f5da0",
   "metadata": {},
   "outputs": [
    {
     "name": "stdout",
     "output_type": "stream",
     "text": [
      "0.10867070744628195\n",
      "p = 1.30304e-65\n",
      "The null hypothesis can be rejected\n",
      "p = 0.0491978\n",
      "The null hypothesis can be rejected\n"
     ]
    }
   ],
   "source": [
    "fitted_b, fitted_lb = stats.boxcox(filter_b)\n",
    "\n",
    "print(fitted_lb)\n",
    "\n",
    "k_a, p_a = stats.normaltest(filter_b)\n",
    "\n",
    "print(\"p = {:g}\".format(p_a))\n",
    "if p_a < alpha:                                         # null hypothesis: Absent Interval comes from a normal distribution\n",
    "    print(\"The null hypothesis can be rejected\")\n",
    "else:\n",
    "    print(\"The null hypothesis cannot be rejected\")\n",
    "    \n",
    "\n",
    "k_a, p_a = stats.normaltest(fitted_b)\n",
    "\n",
    "print(\"p = {:g}\".format(p_a))\n",
    "if p_a < alpha:                                         # null hypothesis: Absent Interval comes from a normal distribution\n",
    "    print(\"The null hypothesis can be rejected\")\n",
    "else:\n",
    "    print(\"The null hypothesis cannot be rejected\")"
   ]
  }
 ],
 "metadata": {
  "kernelspec": {
   "display_name": "Python 3",
   "language": "python",
   "name": "python3"
  },
  "language_info": {
   "codemirror_mode": {
    "name": "ipython",
    "version": 3
   },
   "file_extension": ".py",
   "mimetype": "text/x-python",
   "name": "python",
   "nbconvert_exporter": "python",
   "pygments_lexer": "ipython3",
   "version": "3.8.8"
  }
 },
 "nbformat": 4,
 "nbformat_minor": 5
}
