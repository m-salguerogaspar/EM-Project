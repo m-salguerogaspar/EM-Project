{
 "cells": [
  {
   "cell_type": "code",
   "execution_count": 1,
   "id": "f0bf3337",
   "metadata": {},
   "outputs": [],
   "source": [
    "import pandas as pd\n",
    "import sqlite3\n",
    "import matplotlib.pyplot as plt\n",
    "import numpy as np\n",
    "import seaborn as sns\n",
    "\n",
    "from datetime import datetime\n",
    "from scipy import stats"
   ]
  },
  {
   "cell_type": "code",
   "execution_count": 2,
   "id": "8afc4396",
   "metadata": {},
   "outputs": [],
   "source": [
    "con = sqlite3.connect(r\"C:\\Users\\Mauro\\OneDrive - АНО ВО Университет Иннополис\\Документы\\Innopolis\\Empirical Methods\\DataPrimaryProject\\user10.sqlite\")"
   ]
  },
  {
   "cell_type": "code",
   "execution_count": 3,
   "id": "026623bb",
   "metadata": {},
   "outputs": [],
   "source": [
    "signals_data = pd.read_sql_query(\"\"\"SELECT * FROM Signals;\"\"\", con)\n",
    "images_data = pd.read_sql_query(\"\"\"SELECT * FROM Images;\"\"\", con)"
   ]
  },
  {
   "cell_type": "code",
   "execution_count": 4,
   "id": "c6d411e0",
   "metadata": {},
   "outputs": [
    {
     "name": "stderr",
     "output_type": "stream",
     "text": [
      "<ipython-input-4-9e2eea3a92a1>:3: SettingWithCopyWarning: \n",
      "A value is trying to be set on a copy of a slice from a DataFrame.\n",
      "Try using .loc[row_indexer,col_indexer] = value instead\n",
      "\n",
      "See the caveats in the documentation: https://pandas.pydata.org/pandas-docs/stable/user_guide/indexing.html#returning-a-view-versus-a-copy\n",
      "  filter_data[\"dateTime\"] = pd.to_datetime(filter_data[\"dateTime\"])\n"
     ]
    }
   ],
   "source": [
    "filter_data = images_data.loc[(images_data[\"state\"] == \"Present\") | (images_data[\"state\"] == \"Absent\")]\n",
    "\n",
    "filter_data[\"dateTime\"] = pd.to_datetime(filter_data[\"dateTime\"])\n",
    "\n",
    "sig_ti = signals_data.dateTime"
   ]
  },
  {
   "cell_type": "code",
   "execution_count": 5,
   "id": "1b45e0dd",
   "metadata": {},
   "outputs": [],
   "source": [
    "newfd = filter_data.filter(['id','dateTime','state'], axis=1)\n",
    "\n",
    "newfd = newfd.reset_index(drop=True)"
   ]
  },
  {
   "cell_type": "code",
   "execution_count": 6,
   "id": "d795d229",
   "metadata": {},
   "outputs": [
    {
     "data": {
      "text/html": [
       "<div>\n",
       "<style scoped>\n",
       "    .dataframe tbody tr th:only-of-type {\n",
       "        vertical-align: middle;\n",
       "    }\n",
       "\n",
       "    .dataframe tbody tr th {\n",
       "        vertical-align: top;\n",
       "    }\n",
       "\n",
       "    .dataframe thead th {\n",
       "        text-align: right;\n",
       "    }\n",
       "</style>\n",
       "<table border=\"1\" class=\"dataframe\">\n",
       "  <thead>\n",
       "    <tr style=\"text-align: right;\">\n",
       "      <th></th>\n",
       "      <th>id</th>\n",
       "      <th>dateTime</th>\n",
       "      <th>state</th>\n",
       "    </tr>\n",
       "  </thead>\n",
       "  <tbody>\n",
       "    <tr>\n",
       "      <th>0</th>\n",
       "      <td>3</td>\n",
       "      <td>2021-03-30 13:00:50.296966</td>\n",
       "      <td>Absent</td>\n",
       "    </tr>\n",
       "    <tr>\n",
       "      <th>1</th>\n",
       "      <td>5</td>\n",
       "      <td>2021-03-30 13:00:51.091863</td>\n",
       "      <td>Present</td>\n",
       "    </tr>\n",
       "    <tr>\n",
       "      <th>2</th>\n",
       "      <td>7</td>\n",
       "      <td>2021-03-30 13:01:17.452682</td>\n",
       "      <td>Present</td>\n",
       "    </tr>\n",
       "    <tr>\n",
       "      <th>3</th>\n",
       "      <td>9</td>\n",
       "      <td>2021-03-30 13:01:43.328120</td>\n",
       "      <td>Present</td>\n",
       "    </tr>\n",
       "    <tr>\n",
       "      <th>4</th>\n",
       "      <td>11</td>\n",
       "      <td>2021-03-30 13:01:58.903678</td>\n",
       "      <td>Present</td>\n",
       "    </tr>\n",
       "    <tr>\n",
       "      <th>...</th>\n",
       "      <td>...</td>\n",
       "      <td>...</td>\n",
       "      <td>...</td>\n",
       "    </tr>\n",
       "    <tr>\n",
       "      <th>887</th>\n",
       "      <td>1755</td>\n",
       "      <td>2021-05-14 17:36:30.014077</td>\n",
       "      <td>Present</td>\n",
       "    </tr>\n",
       "    <tr>\n",
       "      <th>888</th>\n",
       "      <td>1757</td>\n",
       "      <td>2021-05-14 17:36:40.606190</td>\n",
       "      <td>Present</td>\n",
       "    </tr>\n",
       "    <tr>\n",
       "      <th>889</th>\n",
       "      <td>1759</td>\n",
       "      <td>2021-05-14 17:36:42.957721</td>\n",
       "      <td>Present</td>\n",
       "    </tr>\n",
       "    <tr>\n",
       "      <th>890</th>\n",
       "      <td>1761</td>\n",
       "      <td>2021-05-14 17:38:10.272145</td>\n",
       "      <td>Present</td>\n",
       "    </tr>\n",
       "    <tr>\n",
       "      <th>891</th>\n",
       "      <td>1763</td>\n",
       "      <td>2021-05-14 17:40:46.471145</td>\n",
       "      <td>Present</td>\n",
       "    </tr>\n",
       "  </tbody>\n",
       "</table>\n",
       "<p>892 rows × 3 columns</p>\n",
       "</div>"
      ],
      "text/plain": [
       "       id                   dateTime    state\n",
       "0       3 2021-03-30 13:00:50.296966   Absent\n",
       "1       5 2021-03-30 13:00:51.091863  Present\n",
       "2       7 2021-03-30 13:01:17.452682  Present\n",
       "3       9 2021-03-30 13:01:43.328120  Present\n",
       "4      11 2021-03-30 13:01:58.903678  Present\n",
       "..    ...                        ...      ...\n",
       "887  1755 2021-05-14 17:36:30.014077  Present\n",
       "888  1757 2021-05-14 17:36:40.606190  Present\n",
       "889  1759 2021-05-14 17:36:42.957721  Present\n",
       "890  1761 2021-05-14 17:38:10.272145  Present\n",
       "891  1763 2021-05-14 17:40:46.471145  Present\n",
       "\n",
       "[892 rows x 3 columns]"
      ]
     },
     "execution_count": 6,
     "metadata": {},
     "output_type": "execute_result"
    }
   ],
   "source": [
    "newfd"
   ]
  },
  {
   "cell_type": "code",
   "execution_count": 7,
   "id": "2c09de5d",
   "metadata": {},
   "outputs": [],
   "source": [
    "pstates = list()\n",
    "astates = list()\n",
    "\n",
    "states = newfd.groupby([(newfd.state != newfd.state.shift()).cumsum()]) \n",
    "\n",
    "for i, g in states:\n",
    "    if (len(g.dateTime.tolist()) > 1)  &  (g.state.all() == 'Present'):\n",
    "        pstates.append((newfd.dateTime.iloc[g.index[0]],newfd.dateTime.iloc[g.index[0]+len(g)-1]))\n",
    "    elif (g.state.all() == 'Absent') & (i > 1) & (i < len(states)-1):\n",
    "        astates.append((newfd.dateTime.iloc[g.index[0]-1],newfd.dateTime.iloc[g.index[0]+len(g)]))"
   ]
  },
  {
   "cell_type": "code",
   "execution_count": 8,
   "id": "63c3d4f9",
   "metadata": {},
   "outputs": [],
   "source": [
    "pre_sig = list()                                                             # Duration of the signals of the Present intervals\n",
    "\n",
    "for m in range (0,len(pstates)):\n",
    "    pre_intervals = list()\n",
    "    for n in sig_ti:\n",
    "        if (str(pstates[m][0]) <= n) &  (n <= str(pstates[m][1])):\n",
    "           pre_intervals.append(n) \n",
    "    if len(pre_intervals) > 1:\n",
    "       inter = pd.Series(pre_intervals, dtype = 'object')\n",
    "       inter = pd.to_datetime(inter)\n",
    "    pre_sig.append(inter.iloc[-1] - inter.iloc[0])"
   ]
  },
  {
   "cell_type": "code",
   "execution_count": 9,
   "id": "c31d12b2",
   "metadata": {},
   "outputs": [],
   "source": [
    "abs_sig = list()                                                             # Duration of the signals of the Present intervals\n",
    "\n",
    "for m in range (0,len(astates)):\n",
    "    abs_intervals = list()\n",
    "    for n in sig_ti:\n",
    "        if (str(astates[m][0]) <= n) &  (n <= str(astates[m][1])):\n",
    "           abs_intervals.append(n) \n",
    "    if len(abs_intervals) > 1:\n",
    "       inter = pd.Series(abs_intervals, dtype = 'object')\n",
    "       inter = pd.to_datetime(inter)\n",
    "    abs_sig.append(inter.iloc[-1] - inter.iloc[0])"
   ]
  },
  {
   "cell_type": "code",
   "execution_count": 10,
   "id": "59eca7c5",
   "metadata": {},
   "outputs": [
    {
     "data": {
      "text/plain": [
       "[Timedelta('0 days 00:00:57.848237'),\n",
       " Timedelta('0 days 00:02:34.158882'),\n",
       " Timedelta('0 days 00:02:34.158882'),\n",
       " Timedelta('0 days 00:06:25.531796'),\n",
       " Timedelta('0 days 00:00:14.823752'),\n",
       " Timedelta('0 days 00:01:48.599324'),\n",
       " Timedelta('0 days 00:01:48.599324'),\n",
       " Timedelta('0 days 00:05:44.914747'),\n",
       " Timedelta('0 days 00:14:11.717796'),\n",
       " Timedelta('0 days 00:00:03.351366'),\n",
       " Timedelta('0 days 00:00:40.367965'),\n",
       " Timedelta('0 days 00:00:20.399555'),\n",
       " Timedelta('0 days 00:00:28.040437'),\n",
       " Timedelta('0 days 00:00:28.040437'),\n",
       " Timedelta('0 days 00:00:28.040437'),\n",
       " Timedelta('0 days 00:19:55.471130'),\n",
       " Timedelta('0 days 00:19:55.471130'),\n",
       " Timedelta('0 days 00:13:35.457764'),\n",
       " Timedelta('5 days 19:03:27.990920'),\n",
       " Timedelta('0 days 00:01:28.199564'),\n",
       " Timedelta('0 days 00:01:28.199564'),\n",
       " Timedelta('0 days 00:03:01.839084'),\n",
       " Timedelta('0 days 00:33:11.877833'),\n",
       " Timedelta('0 days 00:33:11.877833'),\n",
       " Timedelta('0 days 00:33:11.877833'),\n",
       " Timedelta('0 days 00:45:20.939677'),\n",
       " Timedelta('0 days 00:43:18.334859'),\n",
       " Timedelta('0 days 00:03:50.808106'),\n",
       " Timedelta('0 days 00:03:36.640059'),\n",
       " Timedelta('0 days 00:06:17.960100'),\n",
       " Timedelta('0 days 00:07:27.105304'),\n",
       " Timedelta('0 days 00:07:27.105304'),\n",
       " Timedelta('0 days 00:00:11.952278'),\n",
       " Timedelta('0 days 00:04:41.657000'),\n",
       " Timedelta('0 days 00:17:28.669756'),\n",
       " Timedelta('0 days 00:17:28.669756'),\n",
       " Timedelta('0 days 00:12:45.275087'),\n",
       " Timedelta('0 days 00:02:23.169048'),\n",
       " Timedelta('0 days 00:17:51.715200'),\n",
       " Timedelta('0 days 00:01:02.872636'),\n",
       " Timedelta('0 days 00:12:01.904805'),\n",
       " Timedelta('0 days 00:12:01.904805'),\n",
       " Timedelta('0 days 00:11:05.128915'),\n",
       " Timedelta('0 days 00:06:41.343236'),\n",
       " Timedelta('0 days 00:13:52.815386'),\n",
       " Timedelta('38 days 21:05:24.162781'),\n",
       " Timedelta('38 days 21:05:24.162781'),\n",
       " Timedelta('38 days 21:05:24.162781'),\n",
       " Timedelta('0 days 00:06:11.092480'),\n",
       " Timedelta('0 days 00:01:51.380253'),\n",
       " Timedelta('0 days 00:01:22.074687'),\n",
       " Timedelta('0 days 00:05:54.508433'),\n",
       " Timedelta('0 days 00:04:31.845163'),\n",
       " Timedelta('0 days 00:13:44.663255'),\n",
       " Timedelta('0 days 00:02:47.144011'),\n",
       " Timedelta('0 days 00:00:36.579030'),\n",
       " Timedelta('0 days 00:00:49.944540'),\n",
       " Timedelta('0 days 00:00:49.944540'),\n",
       " Timedelta('0 days 00:01:04.833152'),\n",
       " Timedelta('0 days 00:01:04.833152'),\n",
       " Timedelta('0 days 00:00:19.112066'),\n",
       " Timedelta('0 days 00:00:19.112066'),\n",
       " Timedelta('0 days 00:00:19.112066'),\n",
       " Timedelta('0 days 00:00:19.112066'),\n",
       " Timedelta('0 days 00:00:19.112066'),\n",
       " Timedelta('0 days 00:12:51.538732'),\n",
       " Timedelta('0 days 00:12:51.538732'),\n",
       " Timedelta('0 days 00:13:47.855703')]"
      ]
     },
     "execution_count": 10,
     "metadata": {},
     "output_type": "execute_result"
    }
   ],
   "source": [
    "pre_sig "
   ]
  },
  {
   "cell_type": "code",
   "execution_count": 11,
   "id": "19c0a0f9",
   "metadata": {},
   "outputs": [
    {
     "data": {
      "text/plain": [
       "[Timedelta('0 days 00:20:10.921536'),\n",
       " Timedelta('0 days 00:20:10.921536'),\n",
       " Timedelta('0 days 00:20:10.921536'),\n",
       " Timedelta('0 days 00:20:10.921536'),\n",
       " Timedelta('0 days 00:02:07.338004'),\n",
       " Timedelta('0 days 00:02:07.338004'),\n",
       " Timedelta('0 days 00:00:53.431969'),\n",
       " Timedelta('0 days 00:00:53.431969'),\n",
       " Timedelta('0 days 00:00:53.431969'),\n",
       " Timedelta('0 days 00:00:53.431969'),\n",
       " Timedelta('0 days 00:00:53.431969'),\n",
       " Timedelta('0 days 00:00:53.431969'),\n",
       " Timedelta('0 days 00:00:03.063437'),\n",
       " Timedelta('0 days 00:00:03.063437'),\n",
       " Timedelta('0 days 00:00:38.847536'),\n",
       " Timedelta('0 days 00:00:38.847536'),\n",
       " Timedelta('0 days 00:00:38.847536'),\n",
       " Timedelta('0 days 00:00:38.847536'),\n",
       " Timedelta('0 days 00:00:38.847536'),\n",
       " Timedelta('0 days 00:00:38.847536'),\n",
       " Timedelta('0 days 00:01:23.879914'),\n",
       " Timedelta('0 days 00:01:23.879914'),\n",
       " Timedelta('0 days 00:01:23.879914'),\n",
       " Timedelta('0 days 00:01:23.879914'),\n",
       " Timedelta('0 days 00:00:00.192142'),\n",
       " Timedelta('0 days 00:00:00.509596'),\n",
       " Timedelta('0 days 00:00:25.912334'),\n",
       " Timedelta('0 days 00:00:25.912334'),\n",
       " Timedelta('0 days 00:00:25.912334'),\n",
       " Timedelta('0 days 00:00:25.912334'),\n",
       " Timedelta('0 days 00:00:00.847599'),\n",
       " Timedelta('0 days 00:00:00.847599'),\n",
       " Timedelta('0 days 00:00:00.847599'),\n",
       " Timedelta('0 days 00:04:20.615046'),\n",
       " Timedelta('0 days 00:00:06.463833'),\n",
       " Timedelta('0 days 00:00:06.463833'),\n",
       " Timedelta('0 days 00:01:42.345199'),\n",
       " Timedelta('0 days 00:00:29.967871'),\n",
       " Timedelta('0 days 00:00:29.967871'),\n",
       " Timedelta('0 days 00:00:52.847257'),\n",
       " Timedelta('0 days 00:01:20.744532'),\n",
       " Timedelta('0 days 00:00:16.639734'),\n",
       " Timedelta('0 days 00:07:36.098144'),\n",
       " Timedelta('0 days 00:00:04.480012'),\n",
       " Timedelta('0 days 00:00:00.775838'),\n",
       " Timedelta('0 days 00:00:00.775838'),\n",
       " Timedelta('0 days 00:00:00.775838'),\n",
       " Timedelta('0 days 00:00:00.775838'),\n",
       " Timedelta('0 days 00:00:00.775838'),\n",
       " Timedelta('0 days 00:00:00.775838'),\n",
       " Timedelta('0 days 00:00:00.775838'),\n",
       " Timedelta('0 days 00:00:00.017953'),\n",
       " Timedelta('0 days 00:01:09.744196'),\n",
       " Timedelta('0 days 00:05:18.032256'),\n",
       " Timedelta('0 days 00:05:18.032256'),\n",
       " Timedelta('0 days 00:00:02.096266'),\n",
       " Timedelta('0 days 00:00:02.096266'),\n",
       " Timedelta('0 days 00:00:02.096266'),\n",
       " Timedelta('0 days 00:00:02.096266'),\n",
       " Timedelta('0 days 00:00:10.609717'),\n",
       " Timedelta('0 days 00:00:41.622011'),\n",
       " Timedelta('0 days 00:00:00.128609'),\n",
       " Timedelta('0 days 00:00:00.128609'),\n",
       " Timedelta('0 days 00:00:00.128609'),\n",
       " Timedelta('0 days 00:00:00.128609'),\n",
       " Timedelta('0 days 00:00:00.128609'),\n",
       " Timedelta('0 days 00:00:00.128609'),\n",
       " Timedelta('0 days 00:00:00.128609'),\n",
       " Timedelta('0 days 00:00:00.128609'),\n",
       " Timedelta('0 days 00:02:16.414549'),\n",
       " Timedelta('0 days 00:00:53.534451'),\n",
       " Timedelta('0 days 00:00:53.534451'),\n",
       " Timedelta('0 days 00:00:53.534451'),\n",
       " Timedelta('0 days 00:00:53.534451'),\n",
       " Timedelta('0 days 00:00:53.534451'),\n",
       " Timedelta('0 days 00:00:53.534451'),\n",
       " Timedelta('0 days 00:01:59.645894'),\n",
       " Timedelta('0 days 00:01:59.645894'),\n",
       " Timedelta('0 days 00:01:59.645894'),\n",
       " Timedelta('0 days 00:00:08.554213'),\n",
       " Timedelta('0 days 00:00:08.554213'),\n",
       " Timedelta('0 days 00:00:08.554213'),\n",
       " Timedelta('0 days 00:00:10.801012'),\n",
       " Timedelta('0 days 00:00:01.991098'),\n",
       " Timedelta('0 days 00:01:14.557045'),\n",
       " Timedelta('0 days 00:01:14.557045'),\n",
       " Timedelta('0 days 00:01:14.557045'),\n",
       " Timedelta('0 days 00:00:35.855117'),\n",
       " Timedelta('0 days 00:00:00.370937'),\n",
       " Timedelta('0 days 00:00:00.370937'),\n",
       " Timedelta('0 days 00:00:00.370937'),\n",
       " Timedelta('0 days 00:01:37.128732'),\n",
       " Timedelta('0 days 00:01:37.128732'),\n",
       " Timedelta('0 days 00:01:37.128732'),\n",
       " Timedelta('0 days 00:01:37.128732'),\n",
       " Timedelta('0 days 00:03:38.680558'),\n",
       " Timedelta('0 days 00:03:38.680558'),\n",
       " Timedelta('0 days 00:03:38.680558'),\n",
       " Timedelta('0 days 00:01:24.710443'),\n",
       " Timedelta('0 days 00:01:09.778237')]"
      ]
     },
     "execution_count": 11,
     "metadata": {},
     "output_type": "execute_result"
    }
   ],
   "source": [
    "abs_sig"
   ]
  },
  {
   "cell_type": "code",
   "execution_count": 12,
   "id": "b74aea28",
   "metadata": {},
   "outputs": [],
   "source": [
    "a = pre_sig\n",
    "b = abs_sig"
   ]
  },
  {
   "cell_type": "code",
   "execution_count": 13,
   "id": "a477adb6",
   "metadata": {},
   "outputs": [],
   "source": [
    "a = [i.total_seconds()/60 for i in pre_sig ]                          # Time in seconds\n",
    "b = [i.total_seconds()/60 for i in abs_sig ]                          # Time in seconds\n",
    "\n",
    "alpha = 0.05"
   ]
  },
  {
   "cell_type": "code",
   "execution_count": 14,
   "id": "1cf109c5",
   "metadata": {},
   "outputs": [
    {
     "name": "stdout",
     "output_type": "stream",
     "text": [
      "p = 5.6792e-21\n",
      "The null hypothesis can be rejected\n"
     ]
    }
   ],
   "source": [
    "k2, p = stats.normaltest(a)\n",
    "\n",
    "print(\"p = {:g}\".format(p))\n",
    "if p < alpha:                                       # null hypothesis: x comes from a normal distribution\n",
    "    print(\"The null hypothesis can be rejected\")\n",
    "else:\n",
    "    print(\"The null hypothesis cannot be rejected\")"
   ]
  },
  {
   "cell_type": "code",
   "execution_count": 15,
   "id": "26dccad6",
   "metadata": {},
   "outputs": [
    {
     "data": {
      "image/png": "[encoded data removed]",
      "text/plain": [
       "<Figure size 576x432 with 1 Axes>"
      ]
     },
     "metadata": {
      "needs_background": "light"
     },
     "output_type": "display_data"
    },
    {
     "data": {
      "text/plain": [
       "<Figure size 432x288 with 0 Axes>"
      ]
     },
     "metadata": {},
     "output_type": "display_data"
    }
   ],
   "source": [
    "plt.figure(figsize=(8,6))\n",
    "plt.hist(x=a, bins=10, color='#0504aa',alpha=0.7, rwidth=0.85)\n",
    "\n",
    "plt.xlabel('Intervals of time (min)', fontsize=15)\n",
    "plt.ylabel('Frequency', fontsize=15)\n",
    "plt.title('Present Intervals for user10', fontsize=25)\n",
    "plt.grid(axis='y')\n",
    "plt.show()\n",
    "plt.savefig('user10a.png')"
   ]
  },
  {
   "cell_type": "code",
   "execution_count": 16,
   "id": "10bf8230",
   "metadata": {},
   "outputs": [
    {
     "name": "stderr",
     "output_type": "stream",
     "text": [
      "C:\\Users\\Mauro\\anaconda3\\lib\\site-packages\\seaborn\\_decorators.py:36: FutureWarning: Pass the following variable as a keyword arg: x. From version 0.12, the only valid positional argument will be `data`, and passing other arguments without an explicit keyword will result in an error or misinterpretation.\n",
      "  warnings.warn(\n"
     ]
    },
    {
     "data": {
      "image/png": "[encoded data removed]",
      "text/plain": [
       "<Figure size 576x432 with 1 Axes>"
      ]
     },
     "metadata": {
      "needs_background": "light"
     },
     "output_type": "display_data"
    }
   ],
   "source": [
    "plt.figure(figsize=(8,6))\n",
    "plt.title('Box Plot', fontsize=25)\n",
    "sns.boxplot(a)\n",
    "plt.xlabel('Intervals of time (min)', fontsize=15)\n",
    "plt.grid()"
   ]
  },
  {
   "cell_type": "code",
   "execution_count": 17,
   "id": "6faa91a6",
   "metadata": {},
   "outputs": [
    {
     "name": "stdout",
     "output_type": "stream",
     "text": [
      "p = 3.25466e-25\n",
      "The null hypothesis can be rejected\n"
     ]
    }
   ],
   "source": [
    "k2, p = stats.normaltest(b)\n",
    "\n",
    "print(\"p = {:g}\".format(p))\n",
    "if p < alpha:                                       # null hypothesis: x comes from a normal distribution\n",
    "    print(\"The null hypothesis can be rejected\")\n",
    "else:\n",
    "    print(\"The null hypothesis cannot be rejected\")"
   ]
  },
  {
   "cell_type": "code",
   "execution_count": 18,
   "id": "d47cf306",
   "metadata": {},
   "outputs": [
    {
     "data": {
      "image/png": "[encoded data removed]",
      "text/plain": [
       "<Figure size 576x432 with 1 Axes>"
      ]
     },
     "metadata": {
      "needs_background": "light"
     },
     "output_type": "display_data"
    },
    {
     "data": {
      "text/plain": [
       "<Figure size 432x288 with 0 Axes>"
      ]
     },
     "metadata": {},
     "output_type": "display_data"
    }
   ],
   "source": [
    "plt.figure(figsize=(8,6))\n",
    "plt.hist(x=b, bins=10, color='#0504aa',alpha=0.7, rwidth=0.85)\n",
    "\n",
    "plt.xlabel('Intervals of time (min)', fontsize=15)\n",
    "plt.ylabel('Frequency', fontsize=15)\n",
    "plt.title('Absent Intervals for user10', fontsize=25)\n",
    "plt.grid(axis='y')\n",
    "plt.show()\n",
    "plt.savefig('user10b.png')"
   ]
  },
  {
   "cell_type": "code",
   "execution_count": 19,
   "id": "eded9b56",
   "metadata": {},
   "outputs": [
    {
     "name": "stderr",
     "output_type": "stream",
     "text": [
      "C:\\Users\\Mauro\\anaconda3\\lib\\site-packages\\seaborn\\_decorators.py:36: FutureWarning: Pass the following variable as a keyword arg: x. From version 0.12, the only valid positional argument will be `data`, and passing other arguments without an explicit keyword will result in an error or misinterpretation.\n",
      "  warnings.warn(\n"
     ]
    },
    {
     "data": {
      "image/png": "[encoded data removed]",
      "text/plain": [
       "<Figure size 576x432 with 1 Axes>"
      ]
     },
     "metadata": {
      "needs_background": "light"
     },
     "output_type": "display_data"
    }
   ],
   "source": [
    "plt.figure(figsize=(8,6))\n",
    "plt.title('Box Plot', fontsize=25)\n",
    "sns.boxplot(b)\n",
    "plt.xlabel('Intervals of time (min)', fontsize=15)\n",
    "plt.grid()"
   ]
  },
  {
   "cell_type": "code",
   "execution_count": null,
   "id": "86a33bf6",
   "metadata": {},
   "outputs": [],
   "source": []
  }
 ],
 "metadata": {
  "kernelspec": {
   "display_name": "Python 3",
   "language": "python",
   "name": "python3"
  },
  "language_info": {
   "codemirror_mode": {
    "name": "ipython",
    "version": 3
   },
   "file_extension": ".py",
   "mimetype": "text/x-python",
   "name": "python",
   "nbconvert_exporter": "python",
   "pygments_lexer": "ipython3",
   "version": "3.8.8"
  }
 },
 "nbformat": 4,
 "nbformat_minor": 5
}
