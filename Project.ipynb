{
 "cells": [
  {
   "cell_type": "code",
   "execution_count": 1,
   "id": "f0bf3337",
   "metadata": {},
   "outputs": [],
   "source": [
    "import pandas as pd\n",
    "import sqlite3\n",
    "import matplotlib.pyplot as plt\n",
    "import numpy as np\n",
    "import seaborn as sns\n",
    "import numpy\n",
    "\n",
    "from datetime import datetime\n",
    "from scipy import stats"
   ]
  },
  {
   "cell_type": "code",
   "execution_count": 2,
   "id": "8afc4396",
   "metadata": {},
   "outputs": [],
   "source": [
    "con = sqlite3.connect(r\"C:\\Users\\Mauro\\OneDrive - АНО ВО Университет Иннополис\\Документы\\Innopolis\\Empirical Methods\\DataPrimaryProject\\user10.sqlite\")"
   ]
  },
  {
   "cell_type": "code",
   "execution_count": 3,
   "id": "026623bb",
   "metadata": {},
   "outputs": [],
   "source": [
    "signals_data = pd.read_sql_query(\"\"\"SELECT * FROM Signals;\"\"\", con)\n",
    "images_data = pd.read_sql_query(\"\"\"SELECT * FROM Images;\"\"\", con)"
   ]
  },
  {
   "cell_type": "code",
   "execution_count": 4,
   "id": "c6d411e0",
   "metadata": {},
   "outputs": [
    {
     "name": "stderr",
     "output_type": "stream",
     "text": [
      "<ipython-input-4-9e2eea3a92a1>:3: SettingWithCopyWarning: \n",
      "A value is trying to be set on a copy of a slice from a DataFrame.\n",
      "Try using .loc[row_indexer,col_indexer] = value instead\n",
      "\n",
      "See the caveats in the documentation: https://pandas.pydata.org/pandas-docs/stable/user_guide/indexing.html#returning-a-view-versus-a-copy\n",
      "  filter_data[\"dateTime\"] = pd.to_datetime(filter_data[\"dateTime\"])\n"
     ]
    }
   ],
   "source": [
    "filter_data = images_data.loc[(images_data[\"state\"] == \"Present\") | (images_data[\"state\"] == \"Absent\")]\n",
    "\n",
    "filter_data[\"dateTime\"] = pd.to_datetime(filter_data[\"dateTime\"])\n",
    "\n",
    "sig_ti = signals_data.dateTime"
   ]
  },
  {
   "cell_type": "code",
   "execution_count": 5,
   "id": "1b45e0dd",
   "metadata": {},
   "outputs": [],
   "source": [
    "newfd = filter_data.filter(['id','dateTime','state'], axis=1)\n",
    "\n",
    "newfd = newfd.reset_index(drop=True)"
   ]
  },
  {
   "cell_type": "code",
   "execution_count": 6,
   "id": "d795d229",
   "metadata": {},
   "outputs": [
    {
     "data": {
      "text/html": [
       "<div>\n",
       "<style scoped>\n",
       "    .dataframe tbody tr th:only-of-type {\n",
       "        vertical-align: middle;\n",
       "    }\n",
       "\n",
       "    .dataframe tbody tr th {\n",
       "        vertical-align: top;\n",
       "    }\n",
       "\n",
       "    .dataframe thead th {\n",
       "        text-align: right;\n",
       "    }\n",
       "</style>\n",
       "<table border=\"1\" class=\"dataframe\">\n",
       "  <thead>\n",
       "    <tr style=\"text-align: right;\">\n",
       "      <th></th>\n",
       "      <th>id</th>\n",
       "      <th>dateTime</th>\n",
       "      <th>state</th>\n",
       "    </tr>\n",
       "  </thead>\n",
       "  <tbody>\n",
       "    <tr>\n",
       "      <th>0</th>\n",
       "      <td>3</td>\n",
       "      <td>2021-03-30 13:00:50.296966</td>\n",
       "      <td>Absent</td>\n",
       "    </tr>\n",
       "    <tr>\n",
       "      <th>1</th>\n",
       "      <td>5</td>\n",
       "      <td>2021-03-30 13:00:51.091863</td>\n",
       "      <td>Present</td>\n",
       "    </tr>\n",
       "    <tr>\n",
       "      <th>2</th>\n",
       "      <td>7</td>\n",
       "      <td>2021-03-30 13:01:17.452682</td>\n",
       "      <td>Present</td>\n",
       "    </tr>\n",
       "    <tr>\n",
       "      <th>3</th>\n",
       "      <td>9</td>\n",
       "      <td>2021-03-30 13:01:43.328120</td>\n",
       "      <td>Present</td>\n",
       "    </tr>\n",
       "    <tr>\n",
       "      <th>4</th>\n",
       "      <td>11</td>\n",
       "      <td>2021-03-30 13:01:58.903678</td>\n",
       "      <td>Present</td>\n",
       "    </tr>\n",
       "    <tr>\n",
       "      <th>...</th>\n",
       "      <td>...</td>\n",
       "      <td>...</td>\n",
       "      <td>...</td>\n",
       "    </tr>\n",
       "    <tr>\n",
       "      <th>887</th>\n",
       "      <td>1755</td>\n",
       "      <td>2021-05-14 17:36:30.014077</td>\n",
       "      <td>Present</td>\n",
       "    </tr>\n",
       "    <tr>\n",
       "      <th>888</th>\n",
       "      <td>1757</td>\n",
       "      <td>2021-05-14 17:36:40.606190</td>\n",
       "      <td>Present</td>\n",
       "    </tr>\n",
       "    <tr>\n",
       "      <th>889</th>\n",
       "      <td>1759</td>\n",
       "      <td>2021-05-14 17:36:42.957721</td>\n",
       "      <td>Present</td>\n",
       "    </tr>\n",
       "    <tr>\n",
       "      <th>890</th>\n",
       "      <td>1761</td>\n",
       "      <td>2021-05-14 17:38:10.272145</td>\n",
       "      <td>Present</td>\n",
       "    </tr>\n",
       "    <tr>\n",
       "      <th>891</th>\n",
       "      <td>1763</td>\n",
       "      <td>2021-05-14 17:40:46.471145</td>\n",
       "      <td>Present</td>\n",
       "    </tr>\n",
       "  </tbody>\n",
       "</table>\n",
       "<p>892 rows × 3 columns</p>\n",
       "</div>"
      ],
      "text/plain": [
       "       id                   dateTime    state\n",
       "0       3 2021-03-30 13:00:50.296966   Absent\n",
       "1       5 2021-03-30 13:00:51.091863  Present\n",
       "2       7 2021-03-30 13:01:17.452682  Present\n",
       "3       9 2021-03-30 13:01:43.328120  Present\n",
       "4      11 2021-03-30 13:01:58.903678  Present\n",
       "..    ...                        ...      ...\n",
       "887  1755 2021-05-14 17:36:30.014077  Present\n",
       "888  1757 2021-05-14 17:36:40.606190  Present\n",
       "889  1759 2021-05-14 17:36:42.957721  Present\n",
       "890  1761 2021-05-14 17:38:10.272145  Present\n",
       "891  1763 2021-05-14 17:40:46.471145  Present\n",
       "\n",
       "[892 rows x 3 columns]"
      ]
     },
     "execution_count": 6,
     "metadata": {},
     "output_type": "execute_result"
    }
   ],
   "source": [
    "newfd"
   ]
  },
  {
   "cell_type": "code",
   "execution_count": 7,
   "id": "2c09de5d",
   "metadata": {},
   "outputs": [],
   "source": [
    "pstates = list()\n",
    "astates = list()\n",
    "\n",
    "states = newfd.groupby([(newfd.state != newfd.state.shift()).cumsum()]) \n",
    "\n",
    "for i, g in states:\n",
    "    if (len(g.dateTime.tolist()) > 1)  &  (g.state.all() == 'Present'):\n",
    "        pstates.append((newfd.dateTime.iloc[g.index[0]],newfd.dateTime.iloc[g.index[0]+len(g)-1]))\n",
    "    elif (g.state.all() == 'Absent') & (i > 1) & (i < len(states)-1):\n",
    "        astates.append((newfd.dateTime.iloc[g.index[0]-1],newfd.dateTime.iloc[g.index[0]+len(g)]))"
   ]
  },
  {
   "cell_type": "code",
   "execution_count": 8,
   "id": "63c3d4f9",
   "metadata": {},
   "outputs": [],
   "source": [
    "pre_sig = list()                                                             # Duration of the signals of the Present intervals\n",
    "\n",
    "for m in range (0,len(pstates)):\n",
    "    pre_intervals = list()\n",
    "    for n in sig_ti:\n",
    "        if (str(pstates[m][0]) <= n) &  (n <= str(pstates[m][1])):\n",
    "           pre_intervals.append(n) \n",
    "    if len(pre_intervals) > 1:\n",
    "       inter = pd.Series(pre_intervals, dtype = 'object')\n",
    "       inter = pd.to_datetime(inter)\n",
    "    pre_sig.append(inter.iloc[-1] - inter.iloc[0])"
   ]
  },
  {
   "cell_type": "code",
   "execution_count": 9,
   "id": "c31d12b2",
   "metadata": {},
   "outputs": [],
   "source": [
    "abs_sig = list()                                                             # Duration of the signals of the Present intervals\n",
    "\n",
    "for m in range (0,len(astates)):\n",
    "    abs_intervals = list()\n",
    "    for n in sig_ti:\n",
    "        if (str(astates[m][0]) <= n) &  (n <= str(astates[m][1])):\n",
    "           abs_intervals.append(n) \n",
    "    if len(abs_intervals) > 1:\n",
    "       inter = pd.Series(abs_intervals, dtype = 'object')\n",
    "       inter = pd.to_datetime(inter)\n",
    "    abs_sig.append(inter.iloc[-1] - inter.iloc[0])"
   ]
  },
  {
   "cell_type": "code",
   "execution_count": 10,
   "id": "b74aea28",
   "metadata": {},
   "outputs": [],
   "source": [
    "a = pre_sig\n",
    "b = abs_sig"
   ]
  },
  {
   "cell_type": "code",
   "execution_count": 11,
   "id": "a477adb6",
   "metadata": {},
   "outputs": [],
   "source": [
    "a = [p.total_seconds()/60 for p in pre_sig ]                          # Time in seconds\n",
    "a = pd.DataFrame(a)\n",
    "\n",
    "b = [a.total_seconds()/60 for a in abs_sig ]                          # Time in seconds\n",
    "b =pd.DataFrame(b)\n",
    "\n",
    "alpha = 0.05\n",
    "\n",
    "Q_1_a = a.quantile(0.25)\n",
    "Q_3_a = a.quantile(0.75)\n",
    "Iqr_a  = Q_3_a - Q_1_a\n",
    "\n",
    "Q_1_b = b.quantile(0.25)\n",
    "Q_3_b = b.quantile(0.75)\n",
    "Iqr_b = Q_3_b - Q_1_b"
   ]
  },
  {
   "cell_type": "code",
   "execution_count": 12,
   "id": "264478bf",
   "metadata": {},
   "outputs": [
    {
     "name": "stdout",
     "output_type": "stream",
     "text": [
      "1.0\n",
      "1.0\n"
     ]
    }
   ],
   "source": [
    "filter_a = a[((Q_1_a - 1.5 * Iqr_a) <= a) | (a <=  (Q_3_a + 1.5 * Iqr_a))]\n",
    "print(len(filter_a)/len(a))\n",
    "filter_a = numpy.squeeze(filter_a.to_numpy())\n",
    "\n",
    "filter_b = b[((Q_1_b - 1.5 * Iqr_b) <= b) | (b <=  (Q_3_b + 1.5 * Iqr_b))]\n",
    "print(len(filter_b)/len(b))\n",
    "filter_b = numpy.squeeze(filter_b.to_numpy())"
   ]
  },
  {
   "cell_type": "code",
   "execution_count": 13,
   "id": "f7436f27",
   "metadata": {},
   "outputs": [
    {
     "data": {
      "text/plain": [
       "numpy.ndarray"
      ]
     },
     "execution_count": 13,
     "metadata": {},
     "output_type": "execute_result"
    }
   ],
   "source": [
    "type(filter_a)"
   ]
  },
  {
   "cell_type": "code",
   "execution_count": 14,
   "id": "8680e9e4",
   "metadata": {},
   "outputs": [],
   "source": [
    "dataframe_a = pd.DataFrame(data=filter_a, columns=[\"Seconds\"])\n",
    "dataframe_a[\"State\"] = \"Present\"\n",
    "\n",
    "dataframe_b = pd.DataFrame(data=filter_b, columns=[\"Seconds\"])\n",
    "dataframe_b[\"State\"] = \"Absent\""
   ]
  },
  {
   "cell_type": "code",
   "execution_count": 15,
   "id": "e1f75cd3",
   "metadata": {},
   "outputs": [],
   "source": [
    "data = dataframe_a.append(dataframe_b)"
   ]
  },
  {
   "cell_type": "code",
   "execution_count": 16,
   "id": "7c1142e2",
   "metadata": {},
   "outputs": [
    {
     "data": {
      "text/plain": [
       "F_onewayResult(statistic=5.034415542880428, pvalue=0.026170709956357667)"
      ]
     },
     "execution_count": 16,
     "metadata": {},
     "output_type": "execute_result"
    }
   ],
   "source": [
    "import scipy.stats as stats\n",
    "\n",
    "stats.f_oneway(data['Seconds'][data['State'] == 'Present'] , data['Seconds'][data['State'] == 'Absent'])"
   ]
  },
  {
   "cell_type": "code",
   "execution_count": 17,
   "id": "1cf109c5",
   "metadata": {},
   "outputs": [
    {
     "name": "stdout",
     "output_type": "stream",
     "text": [
      "-0.16875378328520532\n",
      "p = 5.6792e-21\n",
      "The null hypothesis can be rejected\n",
      "p = 0.563463\n",
      "The null hypothesis cannot be rejected\n"
     ]
    }
   ],
   "source": [
    "fitted_a, fitted_la = stats.boxcox(filter_a)\n",
    "\n",
    "print(fitted_la)\n",
    "\n",
    "k_p, p_p = stats.normaltest(filter_a)\n",
    "\n",
    "print(\"p = {:g}\".format(p_p))\n",
    "if p_p < alpha:                                        # null hypothesis: Present Interval comes from a normal distribution\n",
    "    print(\"The null hypothesis can be rejected\")\n",
    "else:\n",
    "    print(\"The null hypothesis cannot be rejected\")\n",
    "    \n",
    "\n",
    "k_p, p_p = stats.normaltest(fitted_a)\n",
    "\n",
    "print(\"p = {:g}\".format(p_p))\n",
    "if p_p < alpha:                                        # null hypothesis: Present Interval comes from a normal distribution\n",
    "    print(\"The null hypothesis can be rejected\")\n",
    "else:\n",
    "    print(\"The null hypothesis cannot be rejected\")"
   ]
  },
  {
   "cell_type": "code",
   "execution_count": 18,
   "id": "859f5da0",
   "metadata": {},
   "outputs": [
    {
     "name": "stdout",
     "output_type": "stream",
     "text": [
      "0.1127277427510776\n",
      "p = 3.25466e-25\n",
      "The null hypothesis can be rejected\n",
      "p = 0.250439\n",
      "The null hypothesis cannot be rejected\n"
     ]
    }
   ],
   "source": [
    "fitted_b, fitted_lb = stats.boxcox(filter_b)\n",
    "\n",
    "print(fitted_lb)\n",
    "\n",
    "k_a, p_a = stats.normaltest(filter_b)\n",
    "\n",
    "print(\"p = {:g}\".format(p_a))\n",
    "if p_a < alpha:                                         # null hypothesis: Absent Interval comes from a normal distribution\n",
    "    print(\"The null hypothesis can be rejected\")\n",
    "else:\n",
    "    print(\"The null hypothesis cannot be rejected\")\n",
    "    \n",
    "\n",
    "k_a, p_a = stats.normaltest(fitted_b)\n",
    "\n",
    "print(\"p = {:g}\".format(p_a))\n",
    "if p_a < alpha:                                         # null hypothesis: Absent Interval comes from a normal distribution\n",
    "    print(\"The null hypothesis can be rejected\")\n",
    "else:\n",
    "    print(\"The null hypothesis cannot be rejected\")"
   ]
  }
 ],
 "metadata": {
  "kernelspec": {
   "display_name": "Python 3 (ipykernel)",
   "language": "python",
   "name": "python3"
  },
  "language_info": {
   "codemirror_mode": {
    "name": "ipython",
    "version": 3
   },
   "file_extension": ".py",
   "mimetype": "text/x-python",
   "name": "python",
   "nbconvert_exporter": "python",
   "pygments_lexer": "ipython3",
   "version": "3.9.7"
  }
 },
 "nbformat": 4,
 "nbformat_minor": 5
}
