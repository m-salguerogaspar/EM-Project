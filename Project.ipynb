{
 "cells": [
  {
   "cell_type": "code",
   "execution_count": 1,
   "id": "f0bf3337",
   "metadata": {},
   "outputs": [],
   "source": [
    "import pandas as pd\n",
    "import sqlite3\n",
    "\n",
    "from datetime import datetime"
   ]
  },
  {
   "cell_type": "code",
   "execution_count": 2,
   "id": "8afc4396",
   "metadata": {},
   "outputs": [],
   "source": [
    "con = sqlite3.connect(r\"C:\\Users\\Mauro\\OneDrive - АНО ВО Университет Иннополис\\Документы\\Innopolis\\Empirical Methods\\DataPrimaryProject\\user1.sqlite\")"
   ]
  },
  {
   "cell_type": "code",
   "execution_count": 3,
   "id": "026623bb",
   "metadata": {},
   "outputs": [],
   "source": [
    "signals_data = pd.read_sql_query(\"\"\"SELECT * FROM Signals;\"\"\", con)\n",
    "images_data = pd.read_sql_query(\"\"\"SELECT * FROM Images;\"\"\", con)"
   ]
  },
  {
   "cell_type": "code",
   "execution_count": 4,
   "id": "c6d411e0",
   "metadata": {},
   "outputs": [
    {
     "name": "stderr",
     "output_type": "stream",
     "text": [
      "<ipython-input-4-769807d74527>:3: SettingWithCopyWarning: \n",
      "A value is trying to be set on a copy of a slice from a DataFrame.\n",
      "Try using .loc[row_indexer,col_indexer] = value instead\n",
      "\n",
      "See the caveats in the documentation: https://pandas.pydata.org/pandas-docs/stable/user_guide/indexing.html#returning-a-view-versus-a-copy\n",
      "  filter_data[\"dateTime\"] = pd.to_datetime(filter_data[\"dateTime\"])\n"
     ]
    }
   ],
   "source": [
    "filter_data = images_data.loc[(images_data[\"state\"] == \"Present\") | (images_data[\"state\"] == \"Absent\")]\n",
    "\n",
    "filter_data[\"dateTime\"] = pd.to_datetime(filter_data[\"dateTime\"])"
   ]
  },
  {
   "cell_type": "code",
   "execution_count": 5,
   "id": "1b45e0dd",
   "metadata": {},
   "outputs": [],
   "source": [
    "newfd = filter_data.filter(['id','dateTime','state'], axis=1)\n",
    "\n",
    "newfd = newfd.reset_index(drop=True)"
   ]
  },
  {
   "cell_type": "code",
   "execution_count": 6,
   "id": "2c09de5d",
   "metadata": {},
   "outputs": [],
   "source": [
    "states = list()\n",
    "\n",
    "pre_state = newfd.groupby([(newfd.state != newfd.state.shift()).cumsum()]) \n",
    "\n",
    "for i, g in pre_state:\n",
    "    if (len(g.dateTime.tolist()) > 1)  &  (g.state.all() == 'Present'):\n",
    "       states.append(g.dateTime.tolist())\n",
    "    \n",
    "pre_int = [(states[k][0],states[k][-1]) for k in range(len(states))]"
   ]
  },
  {
   "cell_type": "code",
   "execution_count": 7,
   "id": "96bb69e3",
   "metadata": {},
   "outputs": [],
   "source": [
    "sig_ti = signals_data.dateTime"
   ]
  },
  {
   "cell_type": "code",
   "execution_count": 8,
   "id": "63c3d4f9",
   "metadata": {},
   "outputs": [],
   "source": [
    "pre_sig = list()\n",
    "\n",
    "for m in range (0,len(pre_int)):\n",
    "    intervals = list()\n",
    "    for n in sig_ti:\n",
    "        if (str(pre_int[m][0]) <= n) &  (n <= str(pre_int[m][1])):\n",
    "           intervals.append(n) \n",
    "    if len(intervals) > 1:\n",
    "       inter = pd.Series(intervals, dtype = 'object')\n",
    "       inter = pd.to_datetime(inter)\n",
    "    pre_sig.append(inter.iloc[-1] - inter.iloc[0])"
   ]
  },
  {
   "cell_type": "code",
   "execution_count": 9,
   "id": "8f2ab3b1",
   "metadata": {},
   "outputs": [
    {
     "data": {
      "text/plain": [
       "[Timedelta('0 days 00:11:37.071785'),\n",
       " Timedelta('0 days 00:53:55.460654'),\n",
       " Timedelta('0 days 00:53:55.460654'),\n",
       " Timedelta('0 days 00:06:24.220788'),\n",
       " Timedelta('0 days 00:21:26.052278'),\n",
       " Timedelta('0 days 00:55:42.074310'),\n",
       " Timedelta('0 days 00:55:42.074310'),\n",
       " Timedelta('0 days 00:40:56.370002'),\n",
       " Timedelta('0 days 00:03:23.625458'),\n",
       " Timedelta('0 days 00:03:23.625458'),\n",
       " Timedelta('0 days 00:02:39.364621'),\n",
       " Timedelta('0 days 17:25:16.545503'),\n",
       " Timedelta('0 days 00:05:10.776724'),\n",
       " Timedelta('0 days 00:05:42.728046'),\n",
       " Timedelta('0 days 00:00:33.799997'),\n",
       " Timedelta('0 days 01:31:11.181822'),\n",
       " Timedelta('0 days 01:01:34.263441'),\n",
       " Timedelta('0 days 01:01:34.263441'),\n",
       " Timedelta('0 days 00:05:10.151673'),\n",
       " Timedelta('0 days 00:11:08.337134'),\n",
       " Timedelta('0 days 01:06:29.665499'),\n",
       " Timedelta('0 days 01:06:29.665499'),\n",
       " Timedelta('0 days 01:06:29.665499'),\n",
       " Timedelta('0 days 01:06:29.665499'),\n",
       " Timedelta('0 days 00:00:00.525863'),\n",
       " Timedelta('4 days 21:20:28.050726'),\n",
       " Timedelta('0 days 00:06:53.926066'),\n",
       " Timedelta('0 days 00:36:49.151456'),\n",
       " Timedelta('0 days 00:15:10.184603'),\n",
       " Timedelta('0 days 00:23:58.654571'),\n",
       " Timedelta('0 days 01:21:32.508934'),\n",
       " Timedelta('0 days 00:13:45.675727'),\n",
       " Timedelta('0 days 00:19:26.183280'),\n",
       " Timedelta('0 days 00:19:26.183280'),\n",
       " Timedelta('0 days 00:19:26.183280'),\n",
       " Timedelta('0 days 00:19:26.183280'),\n",
       " Timedelta('0 days 00:19:26.183280'),\n",
       " Timedelta('1 days 17:02:11.651475'),\n",
       " Timedelta('1 days 17:02:11.651475'),\n",
       " Timedelta('0 days 01:11:10.821327'),\n",
       " Timedelta('0 days 01:11:10.821327'),\n",
       " Timedelta('0 days 01:11:10.821327'),\n",
       " Timedelta('6 days 01:43:58.454300'),\n",
       " Timedelta('0 days 00:23:26.057451'),\n",
       " Timedelta('0 days 00:26:43.432103'),\n",
       " Timedelta('0 days 00:58:01.238831'),\n",
       " Timedelta('5 days 20:16:08.946808'),\n",
       " Timedelta('0 days 01:16:26.459843'),\n",
       " Timedelta('0 days 00:13:24.110782'),\n",
       " Timedelta('0 days 00:13:24.110782'),\n",
       " Timedelta('0 days 00:13:24.110782'),\n",
       " Timedelta('0 days 00:25:53.902173'),\n",
       " Timedelta('0 days 00:09:40.553108'),\n",
       " Timedelta('0 days 00:37:55.591916'),\n",
       " Timedelta('0 days 00:00:31.757950'),\n",
       " Timedelta('0 days 00:08:32.710958'),\n",
       " Timedelta('0 days 00:05:13.269366'),\n",
       " Timedelta('0 days 00:05:13.269366'),\n",
       " Timedelta('0 days 00:05:13.269366'),\n",
       " Timedelta('0 days 00:20:37.466140'),\n",
       " Timedelta('0 days 00:12:18.308714'),\n",
       " Timedelta('0 days 00:09:00.213732'),\n",
       " Timedelta('0 days 00:09:00.213732'),\n",
       " Timedelta('0 days 00:02:43.923276'),\n",
       " Timedelta('0 days 00:02:43.923276'),\n",
       " Timedelta('0 days 00:09:05.076316'),\n",
       " Timedelta('0 days 00:10:24.769213'),\n",
       " Timedelta('0 days 03:17:05.150208'),\n",
       " Timedelta('0 days 03:17:05.150208'),\n",
       " Timedelta('0 days 00:00:07.238061'),\n",
       " Timedelta('0 days 00:00:06.652718'),\n",
       " Timedelta('0 days 00:00:06.652718'),\n",
       " Timedelta('0 days 00:00:06.652718'),\n",
       " Timedelta('0 days 00:02:43.063380'),\n",
       " Timedelta('0 days 01:19:59.922150'),\n",
       " Timedelta('4 days 23:40:25.593004'),\n",
       " Timedelta('0 days 00:09:06.133849'),\n",
       " Timedelta('0 days 00:07:38.583860')]"
      ]
     },
     "execution_count": 9,
     "metadata": {},
     "output_type": "execute_result"
    }
   ],
   "source": [
    "pre_sig                                                      # Duration of the signals of the Present intervals"
   ]
  }
 ],
 "metadata": {
  "kernelspec": {
   "display_name": "Python 3",
   "language": "python",
   "name": "python3"
  },
  "language_info": {
   "codemirror_mode": {
    "name": "ipython",
    "version": 3
   },
   "file_extension": ".py",
   "mimetype": "text/x-python",
   "name": "python",
   "nbconvert_exporter": "python",
   "pygments_lexer": "ipython3",
   "version": "3.8.8"
  }
 },
 "nbformat": 4,
 "nbformat_minor": 5
}
